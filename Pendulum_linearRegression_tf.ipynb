{
 "cells": [
  {
   "cell_type": "code",
   "execution_count": 36,
   "metadata": {},
   "outputs": [],
   "source": [
    "import numpy as np\n",
    "import tensorflow as tf\n",
    "import matplotlib.pyplot as plt\n",
    "%matplotlib inline"
   ]
  },
  {
   "cell_type": "code",
   "execution_count": 37,
   "metadata": {},
   "outputs": [],
   "source": [
    "Xd,Yd=np.loadtxt(\"/Users/krishna/documents/circulate/pendulum.txt\",unpack=True)"
   ]
  },
  {
   "cell_type": "code",
   "execution_count": 48,
   "metadata": {},
   "outputs": [
    {
     "data": {
      "text/plain": [
       "(array([ 0.1 ,  0.11,  0.12,  0.13,  0.14,  0.15,  0.16,  0.17,  0.18,\n",
       "         0.19,  0.2 ,  0.21,  0.22,  0.23,  0.24,  0.25,  0.26,  0.27,\n",
       "         0.28,  0.29,  0.3 ,  0.31,  0.32,  0.33,  0.34,  0.35,  0.36,\n",
       "         0.37,  0.38,  0.39,  0.4 ,  0.41,  0.42,  0.43,  0.44,  0.45,\n",
       "         0.46,  0.47,  0.48,  0.49,  0.5 ,  0.51,  0.52,  0.53,  0.54,\n",
       "         0.55,  0.56,  0.57,  0.58,  0.59,  0.6 ,  0.61,  0.62,  0.63,\n",
       "         0.64,  0.65,  0.66,  0.67,  0.68,  0.69,  0.7 ,  0.71,  0.72,\n",
       "         0.73,  0.74,  0.75,  0.76,  0.77,  0.78,  0.79,  0.8 ,  0.81,\n",
       "         0.82,  0.83,  0.84,  0.85,  0.86,  0.87,  0.88,  0.89,  0.9 ,\n",
       "         0.91,  0.92,  0.93,  0.94,  0.95,  0.96,  0.97,  0.98,  0.99]),\n",
       " array([ 0.69004,  0.69497,  0.74252,  0.7536 ,  0.83568,  0.86789,\n",
       "         0.84182,  0.85379,  0.85762,  0.8839 ,  0.89985,  0.98436,\n",
       "         1.0244 ,  1.0572 ,  0.99077,  1.0058 ,  1.0727 ,  1.0943 ,\n",
       "         1.1432 ,  1.1045 ,  1.1867 ,  1.1385 ,  1.2245 ,  1.2406 ,\n",
       "         1.2071 ,  1.2658 ,  1.2995 ,  1.3142 ,  1.2663 ,  1.2578 ,\n",
       "         1.2991 ,  1.3058 ,  1.3478 ,  1.3506 ,  1.4044 ,  1.3948 ,\n",
       "         1.38   ,  1.448  ,  1.4168 ,  1.4719 ,  1.4656 ,  1.4399 ,\n",
       "         1.5174 ,  1.4988 ,  1.4751 ,  1.5326 ,  1.5297 ,  1.5372 ,\n",
       "         1.6094 ,  1.6352 ,  1.5843 ,  1.6643 ,  1.5987 ,  1.6585 ,\n",
       "         1.6317 ,  1.7074 ,  1.6654 ,  1.6551 ,  1.6964 ,  1.7143 ,\n",
       "         1.7706 ,  1.7622 ,  1.726  ,  1.8089 ,  1.7905 ,  1.7428 ,\n",
       "         1.8381 ,  1.8182 ,  1.7865 ,  1.7995 ,  1.8296 ,  1.8625 ,\n",
       "         1.8623 ,  1.8383 ,  1.8593 ,  1.8944 ,  1.9598 ,  1.9    ,\n",
       "         1.9244 ,  1.9397 ,  1.944  ,  1.9718 ,  1.9383 ,  1.9555 ,\n",
       "         2.0006 ,  1.9841 ,  2.0066 ,  2.0493 ,  2.0503 ,  2.0214 ]))"
      ]
     },
     "execution_count": 48,
     "metadata": {},
     "output_type": "execute_result"
    }
   ],
   "source": [
    "Xd,Yd"
   ]
  },
  {
   "cell_type": "code",
   "execution_count": 39,
   "metadata": {},
   "outputs": [
    {
     "data": {
      "text/plain": [
       "[<matplotlib.lines.Line2D at 0x1146a0c90>]"
      ]
     },
     "execution_count": 39,
     "metadata": {},
     "output_type": "execute_result"
    },
    {
     "data": {
      "image/png": "[encoded data removed]",
      "text/plain": [
       "<matplotlib.figure.Figure at 0x1146a1b90>"
      ]
     },
     "metadata": {},
     "output_type": "display_data"
    }
   ],
   "source": [
    "plt.plot(Xd,Yd, 'rd')"
   ]
  },
  {
   "cell_type": "code",
   "execution_count": 2,
   "metadata": {},
   "outputs": [
    {
     "ename": "NameError",
     "evalue": "name 'tf' is not defined",
     "output_type": "error",
     "traceback": [
      "\u001b[0;31m---------------------------------------------------------------------------\u001b[0m",
      "\u001b[0;31mNameError\u001b[0m                                 Traceback (most recent call last)",
      "\u001b[0;32m<ipython-input-2-2d481b900a9c>\u001b[0m in \u001b[0;36m<module>\u001b[0;34m()\u001b[0m\n\u001b[0;32m----> 1\u001b[0;31m \u001b[0mtf\u001b[0m\u001b[0;34m.\u001b[0m\u001b[0mreset_default_graph\u001b[0m\u001b[0;34m(\u001b[0m\u001b[0;34m)\u001b[0m\u001b[0;34m\u001b[0m\u001b[0m\n\u001b[0m\u001b[1;32m      2\u001b[0m \u001b[0mn_samples\u001b[0m\u001b[0;34m=\u001b[0m\u001b[0mlen\u001b[0m\u001b[0;34m(\u001b[0m\u001b[0mYd\u001b[0m\u001b[0;34m)\u001b[0m\u001b[0;34m\u001b[0m\u001b[0m\n\u001b[1;32m      3\u001b[0m \u001b[0mX\u001b[0m\u001b[0;34m=\u001b[0m\u001b[0mtf\u001b[0m\u001b[0;34m.\u001b[0m\u001b[0mplaceholder\u001b[0m\u001b[0;34m(\u001b[0m\u001b[0mtf\u001b[0m\u001b[0;34m.\u001b[0m\u001b[0mfloat32\u001b[0m\u001b[0;34m,\u001b[0m \u001b[0mname\u001b[0m\u001b[0;34m=\u001b[0m\u001b[0;34m'X'\u001b[0m\u001b[0;34m)\u001b[0m\u001b[0;34m\u001b[0m\u001b[0m\n\u001b[1;32m      4\u001b[0m \u001b[0mY\u001b[0m\u001b[0;34m=\u001b[0m\u001b[0mtf\u001b[0m\u001b[0;34m.\u001b[0m\u001b[0mplaceholder\u001b[0m\u001b[0;34m(\u001b[0m\u001b[0mtf\u001b[0m\u001b[0;34m.\u001b[0m\u001b[0mfloat32\u001b[0m\u001b[0;34m,\u001b[0m\u001b[0mname\u001b[0m\u001b[0;34m=\u001b[0m\u001b[0;34m'Y'\u001b[0m\u001b[0;34m)\u001b[0m\u001b[0;34m\u001b[0m\u001b[0m\n\u001b[1;32m      5\u001b[0m \u001b[0mw\u001b[0m \u001b[0;34m=\u001b[0m \u001b[0mtf\u001b[0m\u001b[0;34m.\u001b[0m\u001b[0mVariable\u001b[0m\u001b[0;34m(\u001b[0m\u001b[0;36m0.0\u001b[0m\u001b[0;34m,\u001b[0m \u001b[0mname\u001b[0m\u001b[0;34m=\u001b[0m\u001b[0;34m'weights'\u001b[0m\u001b[0;34m)\u001b[0m\u001b[0;34m\u001b[0m\u001b[0m\n",
      "\u001b[0;31mNameError\u001b[0m: name 'tf' is not defined"
     ]
    }
   ],
   "source": [
    "n_samples=len(Yd)\n",
    "X=tf.placeholder(tf.float32, name='X')\n",
    "Y=tf.placeholder(tf.float32,name='Y')\n",
    "w = tf.Variable(0.0, name='weights')\n",
    "b = tf.Variable(0.0, name='bias')\n",
    "\n",
    "Y_predicted=X*w+b\n",
    "loss=tf.square(Y-Y_predicted, name='loss')\n",
    "\n",
    "optimizer = tf.train.GradientDescentOptimizer(learning_rate=0.001).minimize(loss)\n"
   ]
  },
  {
   "cell_type": "code",
   "execution_count": 46,
   "metadata": {},
   "outputs": [],
   "source": [
    "with tf.Session() as sess:\n",
    "    sess.run(tf.global_variables_initializer())\n",
    "    \n",
    "    #train the model\n",
    "    for i in range(500):\n",
    "        total_loss=0\n",
    "        for m in range(n_samples):\n",
    "            x=Xd[m]\n",
    "            y=Yd[m]\n",
    "            _, l = sess.run([optimizer, loss], feed_dict={X: x, Y:y})\n",
    "            total_loss+=l\n",
    "        #print('Epoch {0}: {1}'.format(i, total_loss/n_samples))\n",
    "        \n",
    "    w,b=sess.run([w,b])"
   ]
  },
  {
   "cell_type": "code",
   "execution_count": 47,
   "metadata": {},
   "outputs": [
    {
     "data": {
      "text/plain": [
       "<matplotlib.legend.Legend at 0x114dd32d0>"
      ]
     },
     "execution_count": 47,
     "metadata": {},
     "output_type": "execute_result"
    },
    {
     "data": {
      "image/png": "[encoded data removed]",
      "text/plain": [
       "<matplotlib.figure.Figure at 0x114b0ab10>"
      ]
     },
     "metadata": {},
     "output_type": "display_data"
    }
   ],
   "source": [
    "plt.plot(Xd,Yd,'rd')\n",
    "plt.plot(Xd, Xd*w+b, 'b')\n",
    "plt.legend([\"Real Data\", \"Prediction\"])"
   ]
  },
  {
   "cell_type": "code",
   "execution_count": null,
   "metadata": {},
   "outputs": [],
   "source": []
  }
 ],
 "metadata": {
  "kernelspec": {
   "display_name": "Python 3",
   "language": "python",
   "name": "python3"
  },
  "language_info": {
   "codemirror_mode": {
    "name": "ipython",
    "version": 2
   },
   "file_extension": ".py",
   "mimetype": "text/x-python",
   "name": "python",
   "nbconvert_exporter": "python",
   "pygments_lexer": "ipython2",
   "version": "2.7.14"
  }
 },
 "nbformat": 4,
 "nbformat_minor": 2
}
